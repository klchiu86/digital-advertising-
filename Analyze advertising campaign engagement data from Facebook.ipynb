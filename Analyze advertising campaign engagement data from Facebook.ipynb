{
 "cells": [
  {
   "cell_type": "markdown",
   "metadata": {},
   "source": [
    "# Analyze advertising campaign engagement data from Facebook\n",
    "## perform a simple multiple regression analysis "
   ]
  },
  {
   "cell_type": "code",
   "execution_count": 5,
   "metadata": {},
   "outputs": [],
   "source": [
    "import pandas as pd\n",
    "import arrow \n",
    "import statsmodels.api as sm\n",
    "# from sklearn import linear_model\n",
    "\n",
    "df = 'Travel Pony Facebook .csv'\n",
    "df = pd.read_csv(df)"
   ]
  },
  {
   "cell_type": "code",
   "execution_count": 6,
   "metadata": {},
   "outputs": [
    {
     "name": "stdout",
     "output_type": "stream",
     "text": [
      "The weekday is the cheapest (best) to generate impressions: \n",
      "3\n"
     ]
    }
   ],
   "source": [
    "#1)When considering 'cost per impression', what day of the week works best? (What day is it cheapest to generate impressions) \n",
    "#What day works worst? (What day is most expensive)\n",
    "\n",
    "#create the analytics' cost per impression and save that as a column.\n",
    "df['Cost per Impression'] = df['Amount Spent (USD)'] / df['Impressions']\n",
    "\n",
    "#find the min value of Cost per Impression and display it's Start Date \n",
    "day = df[['Start Date']][df['Cost per Impression'] == df['Cost per Impression'].min()]\n",
    "\n",
    "# convert that date using arrow\n",
    "dt = arrow.get(day.iloc[0]['Start Date'], 'M/D/YY')\n",
    "dayoftheweek = dt.isoweekday()\n",
    "print(\"The weekday is the cheapest (best) to generate impressions: \")\n",
    "print(dayoftheweek)"
   ]
  },
  {
   "cell_type": "code",
   "execution_count": 7,
   "metadata": {},
   "outputs": [
    {
     "name": "stdout",
     "output_type": "stream",
     "text": [
      "The weekday is the expensive (worst) to generate impressions: \n",
      "7\n"
     ]
    }
   ],
   "source": [
    "# find the max value of Cost per Impression and display it's Start Date \n",
    "day = df[['Start Date']][df['Cost per Impression'] == df['Cost per Impression'].max()]\n",
    "\n",
    "# print(arrow.get('9/20/18', 'M/D/YY'))\n",
    "dt = arrow.get(day.iloc[0]['Start Date'], 'M/D/YY')\n",
    "dayoftheweek = dt.isoweekday()\n",
    "print(\"The weekday is the expensive (worst) to generate impressions: \")\n",
    "print(dayoftheweek)"
   ]
  },
  {
   "cell_type": "code",
   "execution_count": 8,
   "metadata": {},
   "outputs": [
    {
     "name": "stdout",
     "output_type": "stream",
     "text": [
      "                    Amount Spent (USD)     Reach  Frequency  Unique Clicks  \\\n",
      "Amount Spent (USD)            1.000000  0.703124   0.130201       0.882993   \n",
      "Reach                         0.703124  1.000000   0.334101       0.722249   \n",
      "Frequency                     0.130201  0.334101   1.000000       0.135103   \n",
      "Unique Clicks                 0.882993  0.722249   0.135103       1.000000   \n",
      "Page Likes                    0.757612  0.304388   0.000182       0.584614   \n",
      "\n",
      "                    Page Likes  \n",
      "Amount Spent (USD)    0.757612  \n",
      "Reach                 0.304388  \n",
      "Frequency             0.000182  \n",
      "Unique Clicks         0.584614  \n",
      "Page Likes            1.000000  \n"
     ]
    }
   ],
   "source": [
    "#2\n",
    "#compute the correlation with Frequency, Unique Clicks, Page Likes\n",
    "corr = df[['Amount Spent (USD)', 'Reach', 'Frequency', 'Unique Clicks', 'Page Likes']].corr()\n",
    "print(corr)"
   ]
  },
  {
   "cell_type": "code",
   "execution_count": 9,
   "metadata": {},
   "outputs": [
    {
     "name": "stdout",
     "output_type": "stream",
     "text": [
      "                            OLS Regression Results                            \n",
      "==============================================================================\n",
      "Dep. Variable:          Unique Clicks   R-squared:                       0.557\n",
      "Model:                            OLS   Adj. R-squared:                  0.556\n",
      "Method:                 Least Squares   F-statistic:                     2325.\n",
      "Date:                Thu, 18 Oct 2018   Prob (F-statistic):               0.00\n",
      "Time:                        17:39:20   Log-Likelihood:                -15973.\n",
      "No. Observations:                3705   AIC:                         3.195e+04\n",
      "Df Residuals:                    3703   BIC:                         3.196e+04\n",
      "Df Model:                           2                                         \n",
      "Covariance Type:            nonrobust                                         \n",
      "==============================================================================\n",
      "                 coef    std err          t      P>|t|      [0.025      0.975]\n",
      "------------------------------------------------------------------------------\n",
      "Reach          0.0019   3.12e-05     62.490      0.000       0.002       0.002\n",
      "Frequency      3.6139      0.298     12.109      0.000       3.029       4.199\n",
      "==============================================================================\n",
      "Omnibus:                     5107.616   Durbin-Watson:                   0.803\n",
      "Prob(Omnibus):                  0.000   Jarque-Bera (JB):          5128392.747\n",
      "Skew:                           7.331   Prob(JB):                         0.00\n",
      "Kurtosis:                     184.674   Cond. No.                     9.84e+03\n",
      "==============================================================================\n",
      "\n",
      "Warnings:\n",
      "[1] Standard Errors assume that the covariance matrix of the errors is correctly specified.\n",
      "[2] The condition number is large, 9.84e+03. This might indicate that there are\n",
      "strong multicollinearity or other numerical problems.\n"
     ]
    }
   ],
   "source": [
    "#3\n",
    "# regression analysis\n",
    "X = df[[\"Reach\", \"Frequency\"]]  ## X usually means our input variables (or independent variables)\n",
    "y = df[\"Unique Clicks\"] ## Y usually means our output/dependent variable\n",
    "# Note the difference in argument order\n",
    "model = sm.OLS(y, X).fit()\n",
    "predictions = model.predict(X) # make the predictions by the model\n",
    "# Print out the statistics\n",
    "print(model.summary())"
   ]
  },
  {
   "cell_type": "code",
   "execution_count": null,
   "metadata": {},
   "outputs": [],
   "source": []
  }
 ],
 "metadata": {
  "kernelspec": {
   "display_name": "Python 3",
   "language": "python",
   "name": "python3"
  },
  "language_info": {
   "codemirror_mode": {
    "name": "ipython",
    "version": 3
   },
   "file_extension": ".py",
   "mimetype": "text/x-python",
   "name": "python",
   "nbconvert_exporter": "python",
   "pygments_lexer": "ipython3",
   "version": "3.6.5"
  }
 },
 "nbformat": 4,
 "nbformat_minor": 2
}
