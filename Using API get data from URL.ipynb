{
 "cells": [
  {
   "cell_type": "markdown",
   "metadata": {},
   "source": [
    "# Using API getting Census data\n",
    "## Case of Ozo Coffee Shop\n",
    "### Investigate the target audiance in which city in USA   "
   ]
  },
  {
   "cell_type": "code",
   "execution_count": 11,
   "metadata": {},
   "outputs": [],
   "source": [
    "import pandas as pd\n",
    "import requests\n",
    "import json"
   ]
  },
  {
   "cell_type": "code",
   "execution_count": 12,
   "metadata": {},
   "outputs": [],
   "source": [
    "#read the csv data\n",
    "msas = 'msas.csv'\n",
    "msas =  pd.read_csv(msas)"
   ]
  },
  {
   "cell_type": "code",
   "execution_count": 13,
   "metadata": {},
   "outputs": [],
   "source": [
    "#transfer the column name into string\n",
    "tableids = ['B01001', 'B19001', 'B03002']\n",
    "tableidstring = ','.join(tableids)"
   ]
  },
  {
   "cell_type": "code",
   "execution_count": 14,
   "metadata": {},
   "outputs": [],
   "source": [
    "# transfer geoid into string\n",
    "geoid = msas['CBSA']\n",
    "geoidstr = map(str, geoid)\n",
    "geoidstring = ','.join(geoidstr)"
   ]
  },
  {
   "cell_type": "code",
   "execution_count": 15,
   "metadata": {},
   "outputs": [],
   "source": [
    "#request url and loaded Json data\n",
    "requesturl = 'https://api.censusreporter.org/1.0/data/show/latest?table_ids=%s' % (tableidstring) + '&geo_ids=310%7C01000US'\n",
    "censusreporter=requests.get(requesturl)\n",
    "loadedjson= json.loads(censusreporter.content)"
   ]
  },
  {
   "cell_type": "code",
   "execution_count": 24,
   "metadata": {},
   "outputs": [
    {
     "name": "stdout",
     "output_type": "stream",
     "text": [
      "CBSA                                                           35620\n",
      "NAME                           New York-Newark-Jersey City, NY-NJ-PA\n",
      "POPESTIMATE2017                                             20320876\n",
      "Number of income below 75K                               1.07089e+06\n",
      "Number of age from 18 to 34                              4.76974e+06\n",
      "Number of Hispanic                                        4.7702e+06\n",
      "income_percentage                                                  1\n",
      "age_percentage                                                     1\n",
      "hispanic_percentage                                          0.80412\n",
      "mean_percentage_score                                       0.934707\n",
      "Name: 249, dtype: object\n"
     ]
    }
   ],
   "source": [
    "# Look for income below 75K:\n",
    "incomelist=[]\n",
    "for klchiu in geoid:\n",
    "    income_total= 0\n",
    "    income_total += loadedjson['data']['31000US%s' % (klchiu)]['B19001']['estimate']['B19001011']#Income:$50,000 to $59,999\n",
    "    income_total += loadedjson['data']['31000US%s' % (klchiu)]['B19001']['estimate']['B19001012']#Income:$$60,000 to $74,999\n",
    "   \n",
    "    incomelist.append(income_total)\n",
    "\n",
    "#combine incomelist into msas dataframe. \n",
    "msas['Number of income below 75K'] = list(incomelist)\n",
    "\n",
    "#Find the city which has a max population that income is below 75K\n",
    "income_city = msas.loc[msas['Number of income below 75K'].idxmax()]\n",
    "\n",
    "print(income_city)"
   ]
  },
  {
   "cell_type": "code",
   "execution_count": 21,
   "metadata": {},
   "outputs": [
    {
     "name": "stdout",
     "output_type": "stream",
     "text": [
      "CBSA                                                           35620\n",
      "NAME                           New York-Newark-Jersey City, NY-NJ-PA\n",
      "POPESTIMATE2017                                             20320876\n",
      "Number of income below 75K                               1.07089e+06\n",
      "Number of age from 18 to 34                              4.76974e+06\n",
      "Number of Hispanic                                        4.7702e+06\n",
      "income_percentage                                                  1\n",
      "age_percentage                                                     1\n",
      "hispanic_percentage                                          0.80412\n",
      "mean_percentage_score                                       0.934707\n",
      "Name: 249, dtype: object\n"
     ]
    }
   ],
   "source": [
    "#Look for the age between 18 and 34(male&female)\n",
    "agelist=[]\n",
    "for klchiu in geoid:\n",
    "    age_total= 0\n",
    "    age_total += loadedjson['data']['31000US%s' % (klchiu)]['B01001']['estimate']['B01001007']# male,18 and 19 years\n",
    "    age_total += loadedjson['data']['31000US%s' % (klchiu)]['B01001']['estimate']['B01001008']# male,20 years\n",
    "    age_total += loadedjson['data']['31000US%s' % (klchiu)]['B01001']['estimate']['B01001009']# male,21 years\n",
    "    age_total += loadedjson['data']['31000US%s' % (klchiu)]['B01001']['estimate']['B01001010']# male,22 to 24 years\n",
    "    age_total += loadedjson['data']['31000US%s' % (klchiu)]['B01001']['estimate']['B01001011']# male,25 to 29 years\n",
    "    age_total += loadedjson['data']['31000US%s' % (klchiu)]['B01001']['estimate']['B01001012']# male,30 to 34 years\n",
    "    age_total += loadedjson['data']['31000US%s' % (klchiu)]['B01001']['estimate']['B01001031']# female,18 and 19 years\n",
    "    age_total += loadedjson['data']['31000US%s' % (klchiu)]['B01001']['estimate']['B01001032']# female,20 years\n",
    "    age_total += loadedjson['data']['31000US%s' % (klchiu)]['B01001']['estimate']['B01001033']# female,21 years\n",
    "    age_total += loadedjson['data']['31000US%s' % (klchiu)]['B01001']['estimate']['B01001034']# female,22 to 24 years\n",
    "    age_total += loadedjson['data']['31000US%s' % (klchiu)]['B01001']['estimate']['B01001035']# female,25 to 29 years\n",
    "    age_total += loadedjson['data']['31000US%s' % (klchiu)]['B01001']['estimate']['B01001036']# female,30 to 34 years\n",
    "    \n",
    "    agelist.append(age_total)\n",
    "\n",
    "#combine agelist into msas dataframe. \n",
    "msas['Number of age from 18 to 34'] = list(agelist)\n",
    "\n",
    "#Find the city which has a max population between age 18~34\n",
    "age_city = msas.loc[msas['Number of age from 18 to 34'].idxmax()]\n",
    "\n",
    "print(age_city)"
   ]
  },
  {
   "cell_type": "code",
   "execution_count": 27,
   "metadata": {},
   "outputs": [
    {
     "name": "stdout",
     "output_type": "stream",
     "text": [
      "CBSA                                                        31080\n",
      "NAME                           Los Angeles-Long Beach-Anaheim, CA\n",
      "POPESTIMATE2017                                          13353907\n",
      "Number of income below 75K                                 702950\n",
      "Number of age from 18 to 34                           3.36321e+06\n",
      "Number of Hispanic                                     5.9322e+06\n",
      "income_percentage                                        0.656414\n",
      "age_percentage                                           0.705114\n",
      "hispanic_percentage                                             1\n",
      "mean_percentage_score                                    0.787176\n",
      "Name: 210, dtype: object\n"
     ]
    }
   ],
   "source": [
    "#Hispanic\n",
    "hispaniclist=[]\n",
    "for klchiu in geoid:\n",
    "    hispanic_total= 0\n",
    "    hispanic_total += loadedjson['data']['31000US%s' % (klchiu)]['B03002']['estimate']['B03002012']\n",
    "    \n",
    "    hispaniclist.append(hispanic_total)\n",
    "    \n",
    "##combine hispaniclist into msas dataframe. \n",
    "msas['Number of Hispanic'] = list(hispaniclist)\n",
    "\n",
    "##Find the city which has a max Hispanic population  \n",
    "hispanic_city = msas.loc[msas['Number of Hispanic'].idxmax()]\n",
    "\n",
    "print(hispanic_city)"
   ]
  },
  {
   "cell_type": "code",
   "execution_count": 23,
   "metadata": {},
   "outputs": [
    {
     "name": "stdout",
     "output_type": "stream",
     "text": [
      "CBSA                                                           35620\n",
      "NAME                           New York-Newark-Jersey City, NY-NJ-PA\n",
      "POPESTIMATE2017                                             20320876\n",
      "Number of income below 75K                               1.07089e+06\n",
      "Number of age from 18 to 34                              4.76974e+06\n",
      "Number of Hispanic                                        4.7702e+06\n",
      "income_percentage                                                  1\n",
      "age_percentage                                                     1\n",
      "hispanic_percentage                                          0.80412\n",
      "mean_percentage_score                                       0.934707\n",
      "Name: 249, dtype: object\n"
     ]
    }
   ],
   "source": [
    "##caculate the percentage of three categories\n",
    "income_percentage = []\n",
    "age_percentage = []\n",
    "hispanic_percentage = []\n",
    "for i, row in msas.iterrows():\n",
    "    Percentage_Income = msas['Number of income below 75K'][i]/max(msas['Number of income below 75K'])\n",
    "    Percentage_Age = msas['Number of age from 18 to 34'][i]/max(msas['Number of age from 18 to 34'])\n",
    "    Percentage_Hispanic = msas['Number of Hispanic'][i]/max(msas['Number of Hispanic'])\n",
    "    income_percentage.append(Percentage_Income)\n",
    "    age_percentage.append(Percentage_Age)\n",
    "    \n",
    "    hispanic_percentage.append(Percentage_Hispanic)\n",
    "\n",
    "#caculate the mean of three parameters\n",
    "msas['income_percentage'] = income_percentage\n",
    "msas['age_percentage'] = age_percentage\n",
    "msas['hispanic_percentage'] = hispanic_percentage\n",
    "\n",
    "mean_percentage_score = []\n",
    "for i, row in msas.iterrows():\n",
    "    Mean = (msas['income_percentage'][i] + msas['age_percentage'][i]+ msas['hispanic_percentage'][i])/3\n",
    "    mean_percentage_score.append(Mean)\n",
    "msas['mean_percentage_score'] = mean_percentage_score\n",
    "\n",
    "#Find the city has the highest mean percentage across all three categories\n",
    "higest_mean_city = msas.loc[msas['mean_percentage_score'].idxmax()]\n",
    "\n",
    "print(higest_mean_city)"
   ]
  },
  {
   "cell_type": "code",
   "execution_count": null,
   "metadata": {},
   "outputs": [],
   "source": []
  }
 ],
 "metadata": {
  "kernelspec": {
   "display_name": "Python 3",
   "language": "python",
   "name": "python3"
  },
  "language_info": {
   "codemirror_mode": {
    "name": "ipython",
    "version": 3
   },
   "file_extension": ".py",
   "mimetype": "text/x-python",
   "name": "python",
   "nbconvert_exporter": "python",
   "pygments_lexer": "ipython3",
   "version": "3.6.5"
  }
 },
 "nbformat": 4,
 "nbformat_minor": 2
}
